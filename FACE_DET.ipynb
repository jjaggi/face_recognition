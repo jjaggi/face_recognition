{
 "cells": [
  {
   "cell_type": "code",
   "execution_count": 1,
   "id": "4bc984b2-879b-409b-942f-aad9d321a36d",
   "metadata": {},
   "outputs": [
    {
     "name": "stdout",
     "output_type": "stream",
     "text": [
      "[{'box': [185, 49, 82, 100], 'confidence': 0.9998676776885986, 'keypoints': {'left_eye': (211, 82), 'right_eye': (250, 85), 'nose': (232, 101), 'mouth_left': (212, 124), 'mouth_right': (245, 126)}}]\n",
      "first {'box': [185, 49, 82, 100], 'confidence': 0.9998676776885986, 'keypoints': {'left_eye': (211, 82), 'right_eye': (250, 85), 'nose': (232, 101), 'mouth_left': (212, 124), 'mouth_right': (245, 126)}}\n"
     ]
    },
    {
     "data": {
      "text/plain": [
       "-1"
      ]
     },
     "execution_count": 1,
     "metadata": {},
     "output_type": "execute_result"
    }
   ],
   "source": [
    "# fisrt task we have to detect the face in the box\n",
    "from mtcnn import MTCNN \n",
    "# from mtcnn we have to import the class mtcnn\n",
    "# we have to create the object of mtcnn\n",
    "detector= MTCNN()\n",
    "import cv2\n",
    "img= cv2.imread(r\"C:\\Users\\jaska\\Downloads\\vk.jpg\")\n",
    "#In detector, we pass the function of detect faces and detector can detct all the faces of each image\n",
    "output = detector.detect_faces(img)\n",
    "print(output)\n",
    "print(\"first\",output[0])\n",
    "x,y,width,height=output[0]['box']\n",
    "# for making the rectangle we need two cordinates diagonally\n",
    "cv2.rectangle(img,pt1=(x,y),pt2=(x+width,y+height),color=(255,0,0),thickness=3)\n",
    "# in output, we get the list , inside the list we have the dictionary , here key is the box, box ouput is the list \n",
    "# and here we have four numbers(185,49) , first two numbers are the coordinate of box and 82 width and 100 is the height\n",
    "cv2.imshow(\"image\",img)\n",
    "cv2.waitKey(0)"
   ]
  },
  {
   "cell_type": "code",
   "execution_count": 1,
   "id": "c09be659-b57c-4535-9f15-256da3345069",
   "metadata": {},
   "outputs": [
    {
     "name": "stdout",
     "output_type": "stream",
     "text": [
      "[{'box': [185, 49, 82, 100], 'confidence': 0.9998676776885986, 'keypoints': {'left_eye': (211, 82), 'right_eye': (250, 85), 'nose': (232, 101), 'mouth_left': (212, 124), 'mouth_right': (245, 126)}}]\n",
      "first {'box': [185, 49, 82, 100], 'confidence': 0.9998676776885986, 'keypoints': {'left_eye': (211, 82), 'right_eye': (250, 85), 'nose': (232, 101), 'mouth_left': (212, 124), 'mouth_right': (245, 126)}}\n"
     ]
    }
   ],
   "source": [
    "# second task\n",
    "# detect facial landmarks\n",
    "# mtcnn detect faces and also detct five landmarks - left eye, right eye, nose, detcting the corner of mouth\n",
    "# in output we have key value box and confidence and that value is high it means we are confident that face lies\n",
    "# keypoint is a dictionary where shows the cordinates of left eye, right eye, mouth\n",
    "from mtcnn import MTCNN \n",
    "# from mtcnn we have to import the class mtcnn\n",
    "# we have to create the object of mtcnn\n",
    "detector= MTCNN()\n",
    "import cv2\n",
    "img= cv2.imread(r\"C:\\Users\\jaska\\Downloads\\vk.jpg\")\n",
    "#In detector, we pass the function of detect faces and detector can detct all the faces of each image\n",
    "output = detector.detect_faces(img)\n",
    "print(output)\n",
    "print(\"first\",output[0])\n",
    "x,y,width,height=output[0]['box']\n",
    "# show the x and y cordinates of left eye\n",
    "left_eyeX,left_eyeY = output[0]['keypoints']['left_eye']\n",
    "\n",
    "cv2.circle(img,center=(left_eyeX,left_eyeY),color=(255,0,0),thickness=1,radius=5) \n",
    "# for making the rectangle we need two cordinates diagonally\n",
    "cv2.rectangle(img,pt1=(x,y),pt2=(x+width,y+height),color=(255,0,0),thickness=3)\n",
    "# in output, we get the list , inside the list we have the dictionary , here key is the box, box ouput is the list \n",
    "# and here we have four numbers(185,49) , first two numbers are the coordinate of box and 82 width and 100 is the height\n",
    "cv2.imshow(\"image\",img)\n",
    "cv2.waitKey(0)"
   ]
  },
  {
   "cell_type": "code",
   "execution_count": 3,
   "id": "217ed3a9-028a-48ff-a7ba-c9dcb52aedca",
   "metadata": {},
   "outputs": [
    {
     "name": "stdout",
     "output_type": "stream",
     "text": [
      "[{'box': [185, 49, 82, 100], 'confidence': 0.9998676776885986, 'keypoints': {'left_eye': (211, 82), 'right_eye': (250, 85), 'nose': (232, 101), 'mouth_left': (212, 124), 'mouth_right': (245, 126)}}]\n",
      "first {'box': [185, 49, 82, 100], 'confidence': 0.9998676776885986, 'keypoints': {'left_eye': (211, 82), 'right_eye': (250, 85), 'nose': (232, 101), 'mouth_left': (212, 124), 'mouth_right': (245, 126)}}\n"
     ]
    },
    {
     "data": {
      "text/plain": [
       "-1"
      ]
     },
     "execution_count": 3,
     "metadata": {},
     "output_type": "execute_result"
    }
   ],
   "source": [
    "# second task\n",
    "# detect facial landmarks in lenskart that we will detect the face and eyes\n",
    "# mtcnn detect faces and also detct five landmarks - left eye, right eye, nose, detcting the corner of mouth\n",
    "# in output we have key value box and confidence and that value is high it means we are confident that face lies\n",
    "# keypoint is a dictionary where shows the cordinates of left eye, right eye, mouth\n",
    "from mtcnn import MTCNN \n",
    "# from mtcnn we have to import the class mtcnn\n",
    "# we have to create the object of mtcnn\n",
    "detector= MTCNN()\n",
    "import cv2\n",
    "img= cv2.imread(\"images/vk.jpg\")\n",
    "#In detector, we pass the function of detect faces and detector can detct all the faces of each image\n",
    "output = detector.detect_faces(img)\n",
    "print(output)\n",
    "print(\"first\",output[0])\n",
    "x,y,width,height=output[0]['box']\n",
    "# show the x and y cordinates of left eye\n",
    "left_eyeX,left_eyeY = output[0]['keypoints']['left_eye']\n",
    "right_eyeX,right_eyeY = output[0]['keypoints']['right_eye']\n",
    "noseX,noseY = output[0]['keypoints']['nose']\n",
    "mouth_leftX,mouth_leftY = output[0]['keypoints']['mouth_left']\n",
    "mouth_rightX,mouth_rightY = output[0]['keypoints']['mouth_right']\n",
    "cv2.circle(img,center=(left_eyeX,left_eyeY),color=(255,0,0),thickness=1,radius=5) \n",
    "cv2.circle(img,center=(right_eyeX,right_eyeY),color=(255,0,0),thickness=3,radius=2)\n",
    "cv2.circle(img,center=(noseX,noseY),color=(255,0,0),thickness=3,radius=2)\n",
    "cv2.circle(img,center=(mouth_leftX,mouth_leftY),color=(255,0,0),thickness=3,radius=2)\n",
    "cv2.circle(img,center=(mouth_rightX,mouth_rightY),color=(255,0,0),thickness=3,radius=2)\n",
    "# for making the rectangle we need two cordinates diagonally\n",
    "cv2.rectangle(img,pt1=(x,y),pt2=(x+width,y+height),color=(255,0,0),thickness=3)\n",
    "# in output, we get the list , inside the list we have the dictionary , here key is the box, box ouput is the list \n",
    "# and here we have four numbers(185,49) , first two numbers are the coordinate of box and 82 width and 100 is the height\n",
    "cv2.imshow(\"image\",img)\n",
    "cv2.waitKey(0)"
   ]
  },
  {
   "cell_type": "code",
   "execution_count": 4,
   "id": "b83417a8-2832-4952-88a5-8f5f8dbaa3c9",
   "metadata": {},
   "outputs": [
    {
     "name": "stdout",
     "output_type": "stream",
     "text": [
      "[{'box': [261, 313, 115, 145], 'confidence': 0.9999812841415405, 'keypoints': {'left_eye': (290, 369), 'right_eye': (342, 364), 'nose': (317, 398), 'mouth_left': (296, 423), 'mouth_right': (345, 420)}}, {'box': [70, 294, 66, 85], 'confidence': 0.9999308586120605, 'keypoints': {'left_eye': (89, 326), 'right_eye': (122, 326), 'nose': (105, 346), 'mouth_left': (91, 359), 'mouth_right': (119, 360)}}, {'box': [547, 34, 65, 87], 'confidence': 0.9998875856399536, 'keypoints': {'left_eye': (566, 65), 'right_eye': (597, 71), 'nose': (577, 85), 'mouth_left': (563, 102), 'mouth_right': (585, 106)}}, {'box': [526, 286, 83, 107], 'confidence': 0.9993491768836975, 'keypoints': {'left_eye': (546, 324), 'right_eye': (585, 332), 'nose': (554, 350), 'mouth_left': (539, 366), 'mouth_right': (571, 373)}}, {'box': [331, 15, 43, 53], 'confidence': 0.9955496788024902, 'keypoints': {'left_eye': (344, 33), 'right_eye': (362, 42), 'nose': (347, 45), 'mouth_left': (335, 52), 'mouth_right': (349, 60)}}, {'box': [78, 29, 49, 67], 'confidence': 0.9776598811149597, 'keypoints': {'left_eye': (93, 56), 'right_eye': (116, 55), 'nose': (106, 72), 'mouth_left': (96, 81), 'mouth_right': (115, 80)}}]\n",
      "first {'box': [261, 313, 115, 145], 'confidence': 0.9999812841415405, 'keypoints': {'left_eye': (290, 369), 'right_eye': (342, 364), 'nose': (317, 398), 'mouth_left': (296, 423), 'mouth_right': (345, 420)}}\n"
     ]
    },
    {
     "data": {
      "text/plain": [
       "-1"
      ]
     },
     "execution_count": 4,
     "metadata": {},
     "output_type": "execute_result"
    }
   ],
   "source": [
    "# third task \n",
    "# output is the list, in which we have six dictionary \n",
    "# detect facial landmarks in lenskart that we will detect the face and eyes\n",
    "# mtcnn detect faces and also detct five landmarks - left eye, right eye, nose, detcting the corner of mouth\n",
    "# in output we have key value box and confidence and that value is high it means we are confident that face lies\n",
    "# keypoint is a dictionary where shows the cordinates of left eye, right eye, mouth\n",
    "from mtcnn import MTCNN \n",
    "# from mtcnn we have to import the class mtcnn\n",
    "# we have to create the object of mtcnn\n",
    "detector= MTCNN()\n",
    "import cv2\n",
    "img= cv2.imread(\"images/bollywood.jfif\")\n",
    "#In detector, we pass the function of detect faces and detector can detct all the faces of each image\n",
    "output = detector.detect_faces(img)\n",
    "print(output)\n",
    "print(\"first\",output[0])\n",
    "for i in output:\n",
    "\n",
    "    x,y,width,height=i['box']\n",
    "    # show the x and y cordinates of left eye\n",
    "    left_eyeX,left_eyeY = i['keypoints']['left_eye']\n",
    "    right_eyeX,right_eyeY = i['keypoints']['right_eye']\n",
    "    noseX,noseY = output[0]['keypoints']['nose']\n",
    "    mouth_leftX,mouth_leftY = i['keypoints']['mouth_left']\n",
    "    mouth_rightX,mouth_rightY = i['keypoints']['mouth_right']\n",
    "    cv2.circle(img,center=(left_eyeX,left_eyeY),color=(255,0,0),thickness=1,radius=5) \n",
    "    cv2.circle(img,center=(right_eyeX,right_eyeY),color=(255,0,0),thickness=3,radius=2)\n",
    "    cv2.circle(img,center=(noseX,noseY),color=(255,0,0),thickness=3,radius=2)\n",
    "    cv2.circle(img,center=(mouth_leftX,mouth_leftY),color=(255,0,0),thickness=3,radius=2)\n",
    "    cv2.circle(img,center=(mouth_rightX,mouth_rightY),color=(255,0,0),thickness=3,radius=2)\n",
    "    # for making the rectangle we need two cordinates diagonally\n",
    "    cv2.rectangle(img,pt1=(x,y),pt2=(x+width,y+height),color=(255,0,0),thickness=3)\n",
    "# in output, we get the list , inside the list we have the dictionary , here key is the box, box ouput is the list \n",
    "# and here we have four numbers(185,49) , first two numbers are the coordinate of box and 82 width and 100 is the height\n",
    "cv2.imshow(\"image\",img)\n",
    "cv2.waitKey(0)"
   ]
  },
  {
   "cell_type": "code",
   "execution_count": null,
   "id": "fccd7558-f7c3-4e09-a147-de3f223c7f8a",
   "metadata": {},
   "outputs": [],
   "source": [
    "import cv2\n",
    "from mtcnn import MTCNN\n",
    "cap= cv2.VideoCapture(0)\n",
    "detector=MTCNN()\n",
    "while True:\n",
    "    ret, frame=cap.read()\n",
    "    output=detctor.detect_faces(frame)\n",
    "    for single_output in output:\n",
    "        x,y,width,height=single_output['box']\n",
    "        cv2.rectangle(frame,pt1=(x,y),pt2=(x+width,y+height),color=(255,0,0),thickness=3)\n",
    "    cv2.imshow(\"win\", frame)\n",
    "    if cv2.waitKey(1) & 0xFF == ord('x'):\n",
    "        break"
   ]
  }
 ],
 "metadata": {
  "kernelspec": {
   "display_name": "Python 3 (ipykernel)",
   "language": "python",
   "name": "python3"
  },
  "language_info": {
   "codemirror_mode": {
    "name": "ipython",
    "version": 3
   },
   "file_extension": ".py",
   "mimetype": "text/x-python",
   "name": "python",
   "nbconvert_exporter": "python",
   "pygments_lexer": "ipython3",
   "version": "3.10.2"
  }
 },
 "nbformat": 4,
 "nbformat_minor": 5
}
